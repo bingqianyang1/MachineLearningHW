{
 "cells": [
  {
   "cell_type": "code",
   "execution_count": 3,
   "metadata": {},
   "outputs": [],
   "source": [
    "import torch\n",
    "import numpy as np\n",
    "from torch.autograd import Variable\n",
    "import matplotlib.pyplot as plt"
   ]
  },
  {
   "cell_type": "code",
   "execution_count": 109,
   "metadata": {},
   "outputs": [
    {
     "data": {
      "image/png": "[encoded data removed]",
      "text/plain": [
       "<Figure size 432x288 with 1 Axes>"
      ]
     },
     "metadata": {
      "needs_background": "light"
     },
     "output_type": "display_data"
    }
   ],
   "source": [
    "# Random simulation of data for linear regression using pytorch\n",
    "\n",
    "X_array = [6,8,10,12,14,16,18]\n",
    "\n",
    "X_array_np = np.array(X_array,dtype=np.float32)\n",
    "X_array_np = X_array_np.reshape(-1,1)\n",
    "X_array_tensor = Variable(torch.from_numpy(X_array_np))\n",
    "\n",
    "\n",
    "Y_array = [ 10.5, 10, 9.5, 9.0, 8.5, 8.0, 7.5]\n",
    "Y_array_np = np.array(Y_array,dtype=np.float32)\n",
    "Y_array_np = Y_array_np.reshape(-1,1)\n",
    "Y_array_tensor = Variable(torch.from_numpy(Y_array_np))\n",
    "\n",
    "# lets visualize our data\n",
    "\n",
    "plt.scatter(X_array,Y_array)\n",
    "plt.xlabel(\"X\")\n",
    "plt.ylabel(\"Y\")\n",
    "plt.title(\"X Vs Y\")\n",
    "plt.show()"
   ]
  },
  {
   "cell_type": "markdown",
   "metadata": {},
   "source": [
    "# Build a Linear Regression Model using Pytorch (50 Pts)"
   ]
  },
  {
   "cell_type": "code",
   "execution_count": 110,
   "metadata": {},
   "outputs": [],
   "source": [
    "#create a class called LinearRegression , Complete the code (10 Pts)\n",
    "import torch.nn as nn\n",
    "\n",
    "\n",
    "class LinearRegression(nn.Module):\n",
    "    def __init__(self,input_size,output_size):\n",
    "        super(LinearRegression, self).__init__() \n",
    "        self.linear = nn.Linear(input_size, output_size)\n",
    "      \n",
    "\n",
    "    def forward(self,x):\n",
    "        predict_y = self.linear(x)\n",
    "        return predict_y\n",
    "        \n"
   ]
  },
  {
   "cell_type": "code",
   "execution_count": 111,
   "metadata": {},
   "outputs": [],
   "source": [
    "#define the loss for Linear Regression (5 pts)\n",
    "loss_func = nn.MSELoss()"
   ]
  },
  {
   "cell_type": "code",
   "execution_count": 112,
   "metadata": {},
   "outputs": [],
   "source": [
    "input_dim = 1\n",
    "output_dim = 1\n",
    "model = LinearRegression(input_dim,output_dim)"
   ]
  },
  {
   "cell_type": "code",
   "execution_count": 113,
   "metadata": {},
   "outputs": [],
   "source": [
    "#define the optimizer - use SGD (5 Pts)\n",
    "import torch.optim as optim\n",
    "\n",
    "learning_rate = 0.001\n",
    "#learning_rate = 0.00001\n",
    "#learning_rate = 0.005\n",
    "optimizer = optim.SGD(model.parameters(), lr=learning_rate)"
   ]
  },
  {
   "cell_type": "code",
   "execution_count": 114,
   "metadata": {},
   "outputs": [
    {
     "name": "stdout",
     "output_type": "stream",
     "text": [
      "epoch 0, loss 323.5139465332031\n",
      "epoch 50, loss 13.497896194458008\n",
      "epoch 100, loss 13.232077598571777\n",
      "epoch 150, loss 12.971489906311035\n",
      "epoch 200, loss 12.716034889221191\n",
      "epoch 250, loss 12.465609550476074\n",
      "epoch 300, loss 12.220118522644043\n",
      "epoch 350, loss 11.979462623596191\n",
      "epoch 400, loss 11.743544578552246\n",
      "epoch 450, loss 11.512273788452148\n",
      "epoch 500, loss 11.285554885864258\n",
      "epoch 550, loss 11.06330394744873\n",
      "epoch 600, loss 10.845426559448242\n",
      "epoch 650, loss 10.631842613220215\n",
      "epoch 700, loss 10.422464370727539\n",
      "epoch 750, loss 10.217207908630371\n",
      "epoch 800, loss 10.015995979309082\n",
      "epoch 850, loss 9.818743705749512\n",
      "epoch 900, loss 9.62537956237793\n",
      "epoch 950, loss 9.435819625854492\n"
     ]
    }
   ],
   "source": [
    "#collect loss and run the backprop (10 pts)\n",
    "\n",
    "      \n",
    "loss_list = []\n",
    "num_epochs = 1000\n",
    "#num_epochs = 100\n",
    "#num_epochs = 10000\n",
    "for epoch in range(num_epochs):\n",
    "    \n",
    "    #fill in all the details\n",
    "    predict_y = model(X_array_tensor)\n",
    "        \n",
    "    loss = loss_func(predict_y, Y_array_tensor)\n",
    "    \n",
    "    #run backward pass\n",
    "    optimizer.zero_grad() \n",
    "    loss.backward() \n",
    "    optimizer.step()\n",
    "    \n",
    "    loss_list.append(loss.data)\n",
    "        \n",
    "     # print loss\n",
    "    if(epoch % 50 == 0):\n",
    "        print('epoch {}, loss {}'.format(epoch, loss.data))\n",
    "    "
   ]
  },
  {
   "cell_type": "code",
   "execution_count": 115,
   "metadata": {},
   "outputs": [
    {
     "data": {
      "image/png": "[encoded data removed]",
      "text/plain": [
       "<Figure size 432x288 with 1 Axes>"
      ]
     },
     "metadata": {
      "needs_background": "light"
     },
     "output_type": "display_data"
    }
   ],
   "source": [
    "plt.plot(range(num_epochs),loss_list)\n",
    "plt.xlabel(\"Number of Epochs\")\n",
    "plt.ylabel(\"Loss\")\n",
    "plt.show()"
   ]
  },
  {
   "cell_type": "code",
   "execution_count": 116,
   "metadata": {},
   "outputs": [
    {
     "data": {
      "image/png": "[encoded data removed]",
      "text/plain": [
       "<Figure size 432x288 with 1 Axes>"
      ]
     },
     "metadata": {
      "needs_background": "light"
     },
     "output_type": "display_data"
    }
   ],
   "source": [
    "# predict our car price \n",
    "predicted = model(X_array_tensor).data.numpy()\n",
    "plt.scatter(X_array,Y_array,label = \"original data\",color =\"red\")\n",
    "plt.scatter(Y_array,predicted,label = \"predicted data\",color =\"blue\")\n",
    "\n",
    "\n",
    "plt.legend()\n",
    "plt.xlabel(\"X\")\n",
    "plt.ylabel(\"Y\")\n",
    "plt.title(\"Original vs Predicted values\")\n",
    "plt.show()"
   ]
  },
  {
   "cell_type": "markdown",
   "metadata": {},
   "source": [
    "# Change the learning rate above. What do you observe? (10 pts)"
   ]
  },
  {
   "cell_type": "code",
   "execution_count": 117,
   "metadata": {},
   "outputs": [
    {
     "data": {
      "text/plain": [
       "'\\nA smaller learning rate requires more training epochs, and it causes the training\\nprocess to be very slow. So it will take a longer time for model to converge.\\n\\nA larger learning rate requires fewer training epochs, and it causes drastic updates\\nwhich may lead to divergent behaviors.\\n'"
      ]
     },
     "execution_count": 117,
     "metadata": {},
     "output_type": "execute_result"
    }
   ],
   "source": [
    "'''\n",
    "A smaller learning rate requires more training epochs, and it causes the training\n",
    "process to be very slow. So it will take a longer time for model to converge.\n",
    "\n",
    "A larger learning rate requires fewer training epochs, and it causes drastic updates\n",
    "which may lead to divergent behaviors.\n",
    "'''"
   ]
  },
  {
   "cell_type": "markdown",
   "metadata": {},
   "source": [
    "# Change the number of epochs. What do you observe? (10 pts)"
   ]
  },
  {
   "cell_type": "code",
   "execution_count": 118,
   "metadata": {},
   "outputs": [
    {
     "data": {
      "text/plain": [
       "'\\nChanging the number of epochs effects the training process and the loss function.\\n\\nIf the number of epochs is smaller, the model may not have enough time to learn,\\nwhich may result in an underfit model, and the loss will be higher.\\n\\nIf the number of epochs is larger, the model may overfit to the training data.\\nThe loss will be smaller on the training data, but the performance on new data will\\nnot improve or even worse.\\n'"
      ]
     },
     "execution_count": 118,
     "metadata": {},
     "output_type": "execute_result"
    }
   ],
   "source": [
    "'''\n",
    "Changing the number of epochs effects the training process and the loss function.\n",
    "\n",
    "If the number of epochs is smaller, the model may not have enough time to learn,\n",
    "which may result in an underfit model, and the loss will be higher.\n",
    "\n",
    "If the number of epochs is larger, the model may overfit to the training data.\n",
    "The loss will be smaller on the training data, but the performance on new data will\n",
    "not improve or even worse.\n",
    "'''"
   ]
  },
  {
   "cell_type": "markdown",
   "metadata": {},
   "source": [
    "--------------------------------------------------------------------------------------"
   ]
  },
  {
   "cell_type": "markdown",
   "metadata": {},
   "source": [
    "--------------------------------------------------------------------------------------"
   ]
  },
  {
   "cell_type": "code",
   "execution_count": 135,
   "metadata": {},
   "outputs": [
    {
     "name": "stdout",
     "output_type": "stream",
     "text": [
      "The first five probabilities: [0.56 0.35 0.6  0.51 0.62]\n",
      "The first five class labels: [0 1 0 1 1]\n"
     ]
    }
   ],
   "source": [
    "# Random simulation of data for Logistic Regression using pytorch\n",
    "\n",
    "def logistic(z):\n",
    "    return 1 / (1 + np.exp(-z))\n",
    "\n",
    "# True theta coefficients.\n",
    "theta = np.array([[4], [-2]])\n",
    "# Number of features.\n",
    "p = len(theta)\n",
    "\n",
    "# Number of training data points.\n",
    "n = 1000\n",
    "#n = 100\n",
    "#n = 5000\n",
    "#n = 10000\n",
    "# Generate feature values from U[0,1].\n",
    "np.random.seed(1)\n",
    "X = np.random.rand(n, p)\n",
    "\n",
    "# Calculate logits.\n",
    "z = np.dot(X, theta)\n",
    "# Calculate probabilities.\n",
    "prob = logistic(z)\n",
    "\n",
    "# Print the first 5 elements.\n",
    "print(f\"The first five probabilities: {np.round(prob[:5].flatten(), 2)}\")\n",
    "\n",
    "# Generate labels by sampling from Bernoulli(prob)\n",
    "y = np.random.binomial(1, prob.flatten())\n",
    "\n",
    "# Print the first 5 elements.\n",
    "print(f\"The first five class labels: {y[:5].flatten()}\")"
   ]
  },
  {
   "cell_type": "code",
   "execution_count": 136,
   "metadata": {},
   "outputs": [
    {
     "data": {
      "image/png": "[encoded data removed]",
      "text/plain": [
       "<Figure size 432x288 with 1 Axes>"
      ]
     },
     "metadata": {
      "needs_background": "light"
     },
     "output_type": "display_data"
    }
   ],
   "source": [
    "X_array_np = np.array(X,dtype=np.float32)\n",
    "X_array_tensor = Variable(torch.from_numpy(X_array_np))\n",
    "\n",
    "Y_array_np = np.array(y,dtype=np.float32)\n",
    "Y_array_np = Y_array_np.reshape(-1,1)\n",
    "\n",
    "Y_array_tensor = Variable(torch.from_numpy(Y_array_np))\n",
    "\n",
    "# lets visualize our data\n",
    "plt.scatter(X[:,0],X[:,1], y)\n",
    "plt.xlabel(\"X\")\n",
    "plt.ylabel(\"Y\")\n",
    "plt.title(\"X Vs Y\")\n",
    "plt.show()"
   ]
  },
  {
   "cell_type": "code",
   "execution_count": 137,
   "metadata": {},
   "outputs": [],
   "source": [
    "#Build a Logistic Regression Model using PyTorch (50 Pts)"
   ]
  },
  {
   "cell_type": "code",
   "execution_count": 138,
   "metadata": {},
   "outputs": [],
   "source": [
    "# create a class called Logistic Regression (10 Pts)\n",
    "import torch.nn as nn\n",
    "\n",
    "class LogisticRegression(nn.Module):\n",
    "    def __init__(self,input_size,output_size):\n",
    "        super(LogisticRegression, self).__init__()\n",
    "        self.linear = nn.Linear(input_size, output_size)\n",
    "      \n",
    "\n",
    "    def forward(self,x):\n",
    "        y_pred = torch.sigmoid(self.linear(x))\n",
    "        return y_pred\n",
    "      "
   ]
  },
  {
   "cell_type": "code",
   "execution_count": 139,
   "metadata": {},
   "outputs": [],
   "source": [
    "#define the loss for 2 class Logistic Regression (5 pts)\n",
    "\n",
    "loss_func = nn.BCELoss()"
   ]
  },
  {
   "cell_type": "code",
   "execution_count": 140,
   "metadata": {},
   "outputs": [],
   "source": [
    "input_dim = 2\n",
    "output_dim = 1\n",
    "model = LogisticRegression(input_dim,output_dim)"
   ]
  },
  {
   "cell_type": "code",
   "execution_count": 141,
   "metadata": {},
   "outputs": [],
   "source": [
    "#define the optimizer - use SGD (5 Pts)\n",
    "learning_rate = 0.01\n",
    "optimizer = torch.optim.SGD(model.parameters(), lr=learning_rate)"
   ]
  },
  {
   "cell_type": "code",
   "execution_count": 142,
   "metadata": {},
   "outputs": [
    {
     "name": "stdout",
     "output_type": "stream",
     "text": [
      "epoch 0, loss 0.6459475755691528\n",
      "epoch 50, loss 0.6376727819442749\n",
      "epoch 100, loss 0.6312583684921265\n",
      "epoch 150, loss 0.6261325478553772\n",
      "epoch 200, loss 0.6219081878662109\n",
      "epoch 250, loss 0.6183210015296936\n",
      "epoch 300, loss 0.6151896715164185\n",
      "epoch 350, loss 0.612388551235199\n",
      "epoch 400, loss 0.6098301410675049\n",
      "epoch 450, loss 0.6074532270431519\n",
      "epoch 500, loss 0.6052145957946777\n",
      "epoch 550, loss 0.6030836701393127\n",
      "epoch 600, loss 0.6010385751724243\n",
      "epoch 650, loss 0.5990637540817261\n",
      "epoch 700, loss 0.5971478819847107\n",
      "epoch 750, loss 0.5952826738357544\n",
      "epoch 800, loss 0.5934622287750244\n",
      "epoch 850, loss 0.5916820764541626\n",
      "epoch 900, loss 0.5899388194084167\n",
      "epoch 950, loss 0.5882299542427063\n",
      "epoch 1000, loss 0.5865535140037537\n",
      "epoch 1050, loss 0.5849080085754395\n",
      "epoch 1100, loss 0.5832923054695129\n",
      "epoch 1150, loss 0.5817051529884338\n",
      "epoch 1200, loss 0.5801457166671753\n",
      "epoch 1250, loss 0.57861328125\n",
      "epoch 1300, loss 0.5771071910858154\n",
      "epoch 1350, loss 0.5756268501281738\n",
      "epoch 1400, loss 0.5741716027259827\n",
      "epoch 1450, loss 0.5727410912513733\n",
      "epoch 1500, loss 0.5713346600532532\n",
      "epoch 1550, loss 0.5699518918991089\n",
      "epoch 1600, loss 0.568592369556427\n",
      "epoch 1650, loss 0.5672555565834045\n",
      "epoch 1700, loss 0.5659410357475281\n",
      "epoch 1750, loss 0.5646485686302185\n",
      "epoch 1800, loss 0.5633774995803833\n",
      "epoch 1850, loss 0.5621276497840881\n",
      "epoch 1900, loss 0.5608984231948853\n",
      "epoch 1950, loss 0.5596895217895508\n",
      "epoch 2000, loss 0.5585005879402161\n",
      "epoch 2050, loss 0.5573313236236572\n",
      "epoch 2100, loss 0.5561811923980713\n",
      "epoch 2150, loss 0.5550500750541687\n",
      "epoch 2200, loss 0.5539373159408569\n",
      "epoch 2250, loss 0.5528428554534912\n",
      "epoch 2300, loss 0.5517661571502686\n",
      "epoch 2350, loss 0.5507071018218994\n",
      "epoch 2400, loss 0.5496651530265808\n",
      "epoch 2450, loss 0.5486401319503784\n",
      "epoch 2500, loss 0.5476316213607788\n",
      "epoch 2550, loss 0.5466394424438477\n",
      "epoch 2600, loss 0.5456632375717163\n",
      "epoch 2650, loss 0.5447026491165161\n",
      "epoch 2700, loss 0.5437574982643127\n",
      "epoch 2750, loss 0.5428273677825928\n",
      "epoch 2800, loss 0.5419121980667114\n",
      "epoch 2850, loss 0.5410115122795105\n",
      "epoch 2900, loss 0.5401251912117004\n",
      "epoch 2950, loss 0.5392528176307678\n",
      "epoch 3000, loss 0.5383942723274231\n",
      "epoch 3050, loss 0.5375493168830872\n",
      "epoch 3100, loss 0.5367175936698914\n",
      "epoch 3150, loss 0.5358988642692566\n",
      "epoch 3200, loss 0.5350930094718933\n",
      "epoch 3250, loss 0.5342997908592224\n",
      "epoch 3300, loss 0.5335188508033752\n",
      "epoch 3350, loss 0.5327500104904175\n",
      "epoch 3400, loss 0.5319931507110596\n",
      "epoch 3450, loss 0.5312479138374329\n",
      "epoch 3500, loss 0.5305142998695374\n",
      "epoch 3550, loss 0.5297918915748596\n",
      "epoch 3600, loss 0.5290805101394653\n",
      "epoch 3650, loss 0.5283801555633545\n",
      "epoch 3700, loss 0.5276902914047241\n",
      "epoch 3750, loss 0.5270110368728638\n",
      "epoch 3800, loss 0.5263422131538391\n",
      "epoch 3850, loss 0.5256834030151367\n",
      "epoch 3900, loss 0.5250345468521118\n",
      "epoch 3950, loss 0.5243955254554749\n",
      "epoch 4000, loss 0.5237661004066467\n",
      "epoch 4050, loss 0.5231460928916931\n",
      "epoch 4100, loss 0.5225353837013245\n",
      "epoch 4150, loss 0.5219337940216064\n",
      "epoch 4200, loss 0.5213412046432495\n",
      "epoch 4250, loss 0.5207573175430298\n",
      "epoch 4300, loss 0.520182192325592\n",
      "epoch 4350, loss 0.5196154117584229\n",
      "epoch 4400, loss 0.5190571546554565\n",
      "epoch 4450, loss 0.5185070037841797\n",
      "epoch 4500, loss 0.5179649591445923\n",
      "epoch 4550, loss 0.5174307823181152\n",
      "epoch 4600, loss 0.5169044137001038\n",
      "epoch 4650, loss 0.5163857936859131\n",
      "epoch 4700, loss 0.5158746838569641\n",
      "epoch 4750, loss 0.5153709650039673\n",
      "epoch 4800, loss 0.5148744583129883\n",
      "epoch 4850, loss 0.5143851041793823\n",
      "epoch 4900, loss 0.5139029026031494\n",
      "epoch 4950, loss 0.5134275555610657\n",
      "epoch 5000, loss 0.5129590034484863\n",
      "epoch 5050, loss 0.5124971270561218\n",
      "epoch 5100, loss 0.5120418071746826\n",
      "epoch 5150, loss 0.5115930438041687\n",
      "epoch 5200, loss 0.5111505389213562\n",
      "epoch 5250, loss 0.5107142925262451\n",
      "epoch 5300, loss 0.5102842450141907\n",
      "epoch 5350, loss 0.5098601579666138\n",
      "epoch 5400, loss 0.5094420909881592\n",
      "epoch 5450, loss 0.5090298652648926\n",
      "epoch 5500, loss 0.5086233615875244\n",
      "epoch 5550, loss 0.5082225799560547\n",
      "epoch 5600, loss 0.5078273415565491\n",
      "epoch 5650, loss 0.5074375867843628\n",
      "epoch 5700, loss 0.5070531964302063\n",
      "epoch 5750, loss 0.50667405128479\n",
      "epoch 5800, loss 0.5063002109527588\n",
      "epoch 5850, loss 0.5059314966201782\n",
      "epoch 5900, loss 0.5055678486824036\n",
      "epoch 5950, loss 0.5052091479301453\n",
      "epoch 6000, loss 0.5048552751541138\n",
      "epoch 6050, loss 0.5045062899589539\n",
      "epoch 6100, loss 0.5041620135307312\n",
      "epoch 6150, loss 0.5038224458694458\n",
      "epoch 6200, loss 0.5034874081611633\n",
      "epoch 6250, loss 0.503156840801239\n",
      "epoch 6300, loss 0.5028308033943176\n",
      "epoch 6350, loss 0.5025090575218201\n",
      "epoch 6400, loss 0.5021916627883911\n",
      "epoch 6450, loss 0.5018784999847412\n",
      "epoch 6500, loss 0.5015695095062256\n",
      "epoch 6550, loss 0.5012646317481995\n",
      "epoch 6600, loss 0.5009638071060181\n",
      "epoch 6650, loss 0.5006669163703918\n",
      "epoch 6700, loss 0.5003739595413208\n",
      "epoch 6750, loss 0.5000848770141602\n",
      "epoch 6800, loss 0.49979954957962036\n",
      "epoch 6850, loss 0.4995180070400238\n",
      "epoch 6900, loss 0.49924013018608093\n",
      "epoch 6950, loss 0.49896594882011414\n",
      "epoch 7000, loss 0.4986952245235443\n",
      "epoch 7050, loss 0.498428076505661\n",
      "epoch 7100, loss 0.4981643557548523\n",
      "epoch 7150, loss 0.49790412187576294\n",
      "epoch 7200, loss 0.49764716625213623\n",
      "epoch 7250, loss 0.4973936080932617\n",
      "epoch 7300, loss 0.4971432387828827\n",
      "epoch 7350, loss 0.49689608812332153\n",
      "epoch 7400, loss 0.49665209650993347\n",
      "epoch 7450, loss 0.49641120433807373\n",
      "epoch 7500, loss 0.4961734712123871\n",
      "epoch 7550, loss 0.4959387183189392\n",
      "epoch 7600, loss 0.4957069158554077\n",
      "epoch 7650, loss 0.495478093624115\n",
      "epoch 7700, loss 0.4952520728111267\n",
      "epoch 7750, loss 0.4950290024280548\n",
      "epoch 7800, loss 0.4948086440563202\n",
      "epoch 7850, loss 0.4945911765098572\n",
      "epoch 7900, loss 0.4943763315677643\n",
      "epoch 7950, loss 0.49416425824165344\n",
      "epoch 8000, loss 0.4939548075199127\n",
      "epoch 8050, loss 0.49374786019325256\n",
      "epoch 8100, loss 0.4935436546802521\n",
      "epoch 8150, loss 0.493341863155365\n",
      "epoch 8200, loss 0.49314260482788086\n",
      "epoch 8250, loss 0.4929457902908325\n",
      "epoch 8300, loss 0.49275150895118713\n",
      "epoch 8350, loss 0.4925595223903656\n",
      "epoch 8400, loss 0.4923698902130127\n",
      "epoch 8450, loss 0.49218255281448364\n",
      "epoch 8500, loss 0.4919975996017456\n",
      "epoch 8550, loss 0.49181485176086426\n",
      "epoch 8600, loss 0.491634339094162\n",
      "epoch 8650, loss 0.4914560616016388\n",
      "epoch 8700, loss 0.4912799596786499\n",
      "epoch 8750, loss 0.4911058843135834\n",
      "epoch 8800, loss 0.49093401432037354\n",
      "epoch 8850, loss 0.49076423048973083\n",
      "epoch 8900, loss 0.4905964434146881\n",
      "epoch 8950, loss 0.49043065309524536\n",
      "epoch 9000, loss 0.490266889333725\n",
      "epoch 9050, loss 0.4901050925254822\n",
      "epoch 9100, loss 0.4899452328681946\n",
      "epoch 9150, loss 0.4897872805595398\n",
      "epoch 9200, loss 0.48963117599487305\n",
      "epoch 9250, loss 0.4894769489765167\n",
      "epoch 9300, loss 0.4893245995044708\n",
      "epoch 9350, loss 0.4891740083694458\n",
      "epoch 9400, loss 0.48902520537376404\n",
      "epoch 9450, loss 0.48887816071510315\n",
      "epoch 9500, loss 0.48873287439346313\n",
      "epoch 9550, loss 0.48858925700187683\n",
      "epoch 9600, loss 0.4884473383426666\n",
      "epoch 9650, loss 0.48830708861351013\n",
      "epoch 9700, loss 0.48816850781440735\n",
      "epoch 9750, loss 0.4880315363407135\n",
      "epoch 9800, loss 0.4878961145877838\n",
      "epoch 9850, loss 0.48776233196258545\n",
      "epoch 9900, loss 0.48763009905815125\n",
      "epoch 9950, loss 0.4874994158744812\n"
     ]
    }
   ],
   "source": [
    "#collect loss and run backprop (10 pts)\n",
    "\n",
    "loss_list = []\n",
    "iteration_list = []\n",
    "epochs = 10000\n",
    "#epochs = 1000\n",
    "\n",
    "for epoch in range(epochs):\n",
    "    \n",
    "    train = Variable(X_array_tensor)\n",
    "    labels = Variable(Y_array_tensor)\n",
    "    \n",
    "    #fill in all the details\n",
    "    # optimization\n",
    "    optimizer.zero_grad()\n",
    "    # Forward to get output\n",
    "    output = model(train)\n",
    "    \n",
    "    # Calculate Loss\n",
    "    loss = loss_func(output, labels)\n",
    "   \n",
    "    # store loss and iteration\n",
    "    loss_list.append(loss.data)\n",
    "    iteration_list.append(epoch)\n",
    "    \n",
    "    # backward propagation\n",
    "    loss.backward()\n",
    "    optimizer.step()\n",
    "    \n",
    "    # print loss\n",
    "    if(epoch % 50 == 0):\n",
    "        print('epoch {}, loss {}'.format(epoch, loss.data))\n"
   ]
  },
  {
   "cell_type": "code",
   "execution_count": 143,
   "metadata": {},
   "outputs": [
    {
     "data": {
      "image/png": "[encoded data removed]",
      "text/plain": [
       "<Figure size 432x288 with 1 Axes>"
      ]
     },
     "metadata": {
      "needs_background": "light"
     },
     "output_type": "display_data"
    }
   ],
   "source": [
    "plt.plot(range(epochs),loss_list)\n",
    "plt.xlabel(\"Number of Iterations\")\n",
    "plt.ylabel(\"Loss\")\n",
    "plt.show()"
   ]
  },
  {
   "cell_type": "code",
   "execution_count": 75,
   "metadata": {},
   "outputs": [
    {
     "data": {
      "text/plain": [
       "'\\nReducing the number of training samples to 100 and the epochs to 1000, the loss\\nfunction does not converge to the minimum value.\\nSince with a fewer samples, the model will not be able to learn well, \\nthus will result in a lower accuracy. And using fewer epochs results in unerfitting.\\n'"
      ]
     },
     "execution_count": 75,
     "metadata": {},
     "output_type": "execute_result"
    }
   ],
   "source": [
    "# Change the number of training samples to 100 and epochs to 1000. What do you observe?(5 pts)\n",
    "'''\n",
    "Reducing the number of training samples to 100 and the epochs to 1000, the loss\n",
    "function does not converge to the minimum value.\n",
    "Since with a fewer samples, the model will not be able to learn well, \n",
    "thus will result in a lower accuracy. And using fewer epochs results in unerfitting.\n",
    "'''"
   ]
  },
  {
   "cell_type": "code",
   "execution_count": 85,
   "metadata": {},
   "outputs": [
    {
     "data": {
      "text/plain": [
       "'\\nIncreasing the number of training samples to 5000 with 1000 epochs results in\\na better performance of the model due to more samples.\\nBut there are not enough epochs for the loss function to converge to a better value,\\nthus the model needs more iterations to converge to the better solution.\\n'"
      ]
     },
     "execution_count": 85,
     "metadata": {},
     "output_type": "execute_result"
    }
   ],
   "source": [
    "# Change the number of training samples to 5000 and epochs to 1000. What do you observe?(5 pts)\n",
    "'''\n",
    "Increasing the number of training samples to 5000 with 1000 epochs results in\n",
    "a better performance of the model due to more samples.\n",
    "But there are not enough epochs for the loss function to converge to a better value,\n",
    "thus the model needs more iterations to converge to the better solution.\n",
    "'''"
   ]
  },
  {
   "cell_type": "code",
   "execution_count": 106,
   "metadata": {},
   "outputs": [
    {
     "data": {
      "text/plain": [
       "'\\nIncreasing the number of training samples to 10000 with 0.01 learning rate and 10000 epochs\\nwill result in a better performance of the model and a better accuracy of the model.\\nHowever, the model needs more training time due to more samples.\\n'"
      ]
     },
     "execution_count": 106,
     "metadata": {},
     "output_type": "execute_result"
    }
   ],
   "source": [
    "# Change the number of training samples to 10,000 and learning rate to 0.01 and increase the num of epochs to 10,000. What do you observe (5 pts)\n",
    "'''\n",
    "Increasing the number of training samples to 10000 with 0.01 learning rate and 10000 epochs\n",
    "will result in a better performance of the model and a better accuracy of the model.\n",
    "However, the model needs more training time due to more samples.\n",
    "'''"
   ]
  },
  {
   "cell_type": "code",
   "execution_count": 107,
   "metadata": {},
   "outputs": [
    {
     "data": {
      "text/plain": [
       "'\\nIncreasing the number of training samples to 10000 provides the model more data\\nto learn from, thus a better accuracy. Decreasing the epochs to 1000 will result in an underfit model since\\nmodel cannot converge to a better solution.\\n\\n'"
      ]
     },
     "execution_count": 107,
     "metadata": {},
     "output_type": "execute_result"
    }
   ],
   "source": [
    "# Change the number of training samples to 10,000 and learning rate to 0.01. Num of epochs to 1000. What do you observe?(5 pts)\n",
    "'''\n",
    "Increasing the number of training samples to 10000 provides the model more data\n",
    "to learn from, thus a better accuracy. Decreasing the epochs to 1000 will result in an underfit model since\n",
    "model cannot converge to a better solution.\n",
    "\n",
    "'''"
   ]
  }
 ],
 "metadata": {
  "kernelspec": {
   "display_name": "Python 3.9.6 64-bit",
   "language": "python",
   "name": "python3"
  },
  "language_info": {
   "codemirror_mode": {
    "name": "ipython",
    "version": 3
   },
   "file_extension": ".py",
   "mimetype": "text/x-python",
   "name": "python",
   "nbconvert_exporter": "python",
   "pygments_lexer": "ipython3",
   "version": "3.9.6"
  },
  "vscode": {
   "interpreter": {
    "hash": "31f2aee4e71d21fbe5cf8b01ff0e069b9275f58929596ceb00d14d90e3e16cd6"
   }
  }
 },
 "nbformat": 4,
 "nbformat_minor": 5
}
